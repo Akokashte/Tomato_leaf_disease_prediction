{
 "cells": [
  {
   "cell_type": "code",
   "execution_count": 1,
   "id": "addb686c",
   "metadata": {},
   "outputs": [],
   "source": [
    "class_dict ={\n",
    "             'Bacterial_spot': 0,\n",
    "             'Early_blight': 1,\n",
    "             'Late_blight': 2,\n",
    "             'Leaf_Mold': 3,\n",
    "             'Septoria_leaf_spot': 4,\n",
    "             'Spider_mites Two-spotted_spider_mite': 5,\n",
    "             'Target_Spot': 6,\n",
    "             'Tomato_Yellow_Leaf_Curl_Virus': 7,\n",
    "             'Tomato_mosaic_virus': 8,\n",
    "             'healthy': 9\n",
    "            }"
   ]
  },
  {
   "cell_type": "code",
   "execution_count": 2,
   "id": "41914284",
   "metadata": {},
   "outputs": [],
   "source": [
    "from tensorflow.keras.models import load_model\n",
    "model = load_model('tomato_disease_model.h5')"
   ]
  },
  {
   "cell_type": "code",
   "execution_count": 12,
   "id": "031bb2ef",
   "metadata": {},
   "outputs": [],
   "source": [
    "img_path = \"val/Leaf_Mold/0ac36661-a47d-47ff-8948-42edec033b87___Crnl_L.Mold 9127.JPG\""
   ]
  },
  {
   "cell_type": "code",
   "execution_count": 13,
   "id": "28403508",
   "metadata": {},
   "outputs": [],
   "source": [
    "from keras.preprocessing import image\n",
    "import numpy as np\n",
    "from PIL import Image\n",
    "\n",
    "def pred_image(img_path, model):\n",
    "    # Open and resize the image\n",
    "    img = Image.open(img_path).resize((150, 150))\n",
    "\n",
    "    # Preprocessing the image\n",
    "    img = np.expand_dims(img, axis=0)\n",
    "    img = img.astype('float32') / 255\n",
    "\n",
    "    # Make predictions using the model\n",
    "    prediction = model.predict(img)\n",
    "    pred = np.argmax(prediction,axis = 1)\n",
    "    pred_cat = [k for k, v in class_dict.items() if v == pred[0]][0]\n",
    "\n",
    "    return pred_cat"
   ]
  },
  {
   "cell_type": "code",
   "execution_count": 14,
   "id": "0b33683e",
   "metadata": {},
   "outputs": [
    {
     "name": "stdout",
     "output_type": "stream",
     "text": [
      "1/1 [==============================] - 0s 16ms/step\n"
     ]
    },
    {
     "data": {
      "text/plain": [
       "'Leaf_Mold'"
      ]
     },
     "execution_count": 14,
     "metadata": {},
     "output_type": "execute_result"
    }
   ],
   "source": [
    "pred_image(img_path,model)"
   ]
  },
  {
   "cell_type": "code",
   "execution_count": null,
   "id": "43f98ad9",
   "metadata": {},
   "outputs": [],
   "source": []
  }
 ],
 "metadata": {
  "kernelspec": {
   "display_name": "Python 3 (ipykernel)",
   "language": "python",
   "name": "python3"
  },
  "language_info": {
   "codemirror_mode": {
    "name": "ipython",
    "version": 3
   },
   "file_extension": ".py",
   "mimetype": "text/x-python",
   "name": "python",
   "nbconvert_exporter": "python",
   "pygments_lexer": "ipython3",
   "version": "3.10.13"
  }
 },
 "nbformat": 4,
 "nbformat_minor": 5
}
